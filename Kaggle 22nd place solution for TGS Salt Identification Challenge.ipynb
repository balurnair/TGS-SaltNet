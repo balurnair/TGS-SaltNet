{
 "cells": [
  {
   "cell_type": "markdown",
   "metadata": {},
   "source": [
    "## Imports"
   ]
  },
  {
   "cell_type": "code",
   "execution_count": null,
   "metadata": {
    "scrolled": true
   },
   "outputs": [],
   "source": [
    "%matplotlib inline\n",
    "%reload_ext autoreload\n",
    "%autoreload 2\n",
    "from fastai.conv_learner import *\n",
    "from fastai.dataset import *\n",
    "from networks import GCN,SEModule,Refine\n",
    "from fastai.models.senet import *\n",
    "from skimage.transform import resize\n",
    "import json\n",
    "from sklearn.model_selection import train_test_split, StratifiedKFold , KFold\n",
    "from sklearn.metrics import jaccard_similarity_score\n",
    "from networks import *\n",
    "from pycocotools import mask as cocomask\n",
    "from utils import *\n",
    "from lovasz_losses import lovasz_hinge\n",
    "from bam import *\n",
    "print(torch.__version__)\n",
    "torch.cuda.is_available()\n",
    "torch.backends.cudnn.benchmark=True"
   ]
  },
  {
   "cell_type": "markdown",
   "metadata": {},
   "source": [
    "## Paths"
   ]
  },
  {
   "cell_type": "code",
   "execution_count": 2,
   "metadata": {},
   "outputs": [],
   "source": [
    "PATH = Path('data/tgs/')\n",
    "TRN_MASKS = 'trn_masks'\n",
    "TRN_IMG = 'trn_images'\n",
    "TRN_MSK = 'trn_masks'\n",
    "TST_IMG = 'tst_images'\n",
    "trn = pd.read_csv(PATH/'train.csv')\n",
    "dpth = pd.read_csv(PATH/'depths.csv')"
   ]
  },
  {
   "cell_type": "code",
   "execution_count": 3,
   "metadata": {},
   "outputs": [],
   "source": [
    "def show_img(im, figsize=None, ax=None, alpha=None):\n",
    "    if not ax: fig,ax = plt.subplots(figsize=figsize)\n",
    "    ax.imshow(im, alpha=alpha)\n",
    "    ax.set_axis_off()\n",
    "    return ax"
   ]
  },
  {
   "cell_type": "markdown",
   "metadata": {},
   "source": [
    "## Datasets"
   ]
  },
  {
   "cell_type": "code",
   "execution_count": 4,
   "metadata": {},
   "outputs": [],
   "source": [
    "class DepthDataset(Dataset):\n",
    "    def __init__(self,ds,dpth_dict):\n",
    "        self.dpth = dpth_dict\n",
    "        self.ds = ds\n",
    "        \n",
    "    def __getitem__(self,i):\n",
    "        val = self.ds[i]\n",
    "        return val[0],self.dpth[self.ds.fnames[i].split('/')[1][:-4]],val[1]\n",
    "    \n",
    "class MatchedFilesDataset(FilesDataset):\n",
    "    def __init__(self, fnames, y, transform, path):\n",
    "        self.y=y\n",
    "        assert(len(fnames)==len(y))\n",
    "        super().__init__(fnames, transform, path)\n",
    "        \n",
    "    def get_x(self, i): \n",
    "        return open_image(os.path.join(self.path, self.fnames[i]))\n",
    "    \n",
    "    def get_y(self, i):\n",
    "        return open_image(os.path.join(str(self.path), str(self.y[i])))\n",
    "\n",
    "    def get_c(self): return 0\n",
    "    \n",
    "class TestFilesDataset(FilesDataset):\n",
    "    def __init__(self, fnames, y, transform,flip, path):\n",
    "        self.y=y\n",
    "        self.flip = flip\n",
    "        super().__init__(fnames, transform, path)\n",
    "        \n",
    "    def get_x(self, i): \n",
    "        im = open_image(os.path.join(self.path, self.fnames[i]))\n",
    "        return np.fliplr(im) if self.flip else im\n",
    "        \n",
    "    def get_y(self, i):\n",
    "        im = open_image(os.path.join(str(self.path), str(self.y[i])))\n",
    "        return np.fliplr(im) if self.flip else im\n",
    "    def get_c(self): return 0"
   ]
  },
  {
   "cell_type": "markdown",
   "metadata": {},
   "source": [
    "## Creating K-Fold"
   ]
  },
  {
   "cell_type": "code",
   "execution_count": 5,
   "metadata": {},
   "outputs": [],
   "source": [
    "x_names = np.array([f'{TRN_IMG}/{o.name}' for o in (PATH/TRN_MASKS).iterdir()])\n",
    "y_names = np.array([f'{TRN_MASKS}/{o.name}' for o in (PATH/TRN_MASKS).iterdir()])\n",
    "tst_x = np.array([f'{TST_IMG}/{o.name}' for o in (PATH/TST_IMG).iterdir()])\n",
    "f_name = [o.split('/')[-1] for o in x_names]\n",
    "\n",
    "c = dpth.set_index('id')\n",
    "dpth_dict = c['z'].to_dict()\n",
    "\n",
    "kf = 10\n",
    "kfold = KFold(n_splits=kf, shuffle=True, random_state=42)\n",
    "\n",
    "train_folds = []\n",
    "val_folds = []\n",
    "for idxs in kfold.split(f_name):\n",
    "    train_folds.append([f_name[idx] for idx in idxs[0]])\n",
    "    val_folds.append([f_name[idx] for idx in idxs[1]])\n",
    "    "
   ]
  },
  {
   "cell_type": "markdown",
   "metadata": {},
   "source": [
    "## Unet Model"
   ]
  },
  {
   "cell_type": "code",
   "execution_count": 7,
   "metadata": {},
   "outputs": [],
   "source": [
    "class UnetWithAttention(nn.Module):\n",
    "    def __init__(self):\n",
    "        super().__init__()\n",
    "        self.rn = ResNetWithBAM()\n",
    "        fs = 16\n",
    "        self.up1 = UnetBlock(512,256,fs)\n",
    "        self.up2 = UnetBlock(fs,128,fs)\n",
    "        self.up3 = UnetBlock(fs,64,fs)\n",
    "        self.up4 = nn.ConvTranspose2d(fs, fs, 2, stride=2)\n",
    "\n",
    "        self.img_class = nn.Sequential(nn.AdaptiveAvgPool2d(1),\n",
    "                                   Flatten(),\n",
    "                                   nn.Dropout(0.3),\n",
    "                                   nn.Linear(512,256),nn.ReLU(inplace=True),nn.BatchNorm1d(256),\n",
    "                                   nn.Dropout(0.3),\n",
    "                                   nn.Linear(256,1),nn.Sigmoid()\n",
    "                                )\n",
    "        \n",
    "        self.logit = nn.Sequential(nn.Conv2d(69,69,kernel_size=3,padding=1),nn.ReLU(inplace=True),\n",
    "                           nn.Conv2d(69,1,kernel_size=1,padding=0))\n",
    "        \n",
    "        self.ds1,self.ds2,self.ds3,self.ds4,self.ds5 = [conv_block(fs,1) for _ in range(5)]\n",
    "        \n",
    "    def forward(self,img,depth):\n",
    "        e0,e1,e2,e3,e4 = self.rn(img)\n",
    "        img_sz = img.size(2)     \n",
    "        d1 = self.up1(e4, e3) \n",
    "        d2 = self.up2(d1, e2) \n",
    "        d3 = self.up3(d2, e1) \n",
    "        d4 = self.up4(d3) \n",
    "\n",
    "        #Creating hyper column features\n",
    "        hyp_column = torch.cat([create_interpolate(o,img_sz) for o in [d1,d2,d3,d4]],1)\n",
    "        \n",
    "        #Creating features for deep supervision\n",
    "        ds1,ds2,ds3,ds4 = self.ds1(d1),self.ds2(d2),self.ds3(d3),self.ds4(d4)\n",
    "        \n",
    "        ds = torch.cat([create_interpolate(o,img_sz) for o in [ds1,ds2,ds3,ds4]],1)\n",
    "        \n",
    "        #Image classifier\n",
    "        img_class = self.img_class(e4)\n",
    "        \n",
    "        img_class_up = create_interpolate(img_class.view(img_class.size(0),-1,1,1),img_sz,'nearest',None)\n",
    "        \n",
    "        #Fuse Deep supervision features\n",
    "        ds = torch.cat([hyp_column,ds,img_class_up],1)\n",
    "        \n",
    "        x = self.logit(ds)\n",
    "        \n",
    "        return x[:,0],(img_class,*[o[:,0] for o in [ds1,ds2,ds3,ds4]])\n",
    "\n",
    "\n",
    "class UnetModel():\n",
    "    def __init__(self,model,lr_cut,name='unet'):\n",
    "        self.model,self.name = model,name\n",
    "        self.lr_cut = lr_cut\n",
    "\n",
    "    def get_layer_groups(self, precompute):\n",
    "        lgs = list(split_by_idxs(children(self.model.rn), [2]))\n",
    "        return lgs + [children(self.model)[1:]]\n",
    "    \n",
    "    "
   ]
  },
  {
   "cell_type": "code",
   "execution_count": 8,
   "metadata": {},
   "outputs": [],
   "source": [
    "def get_tgs_model():\n",
    "    f = resnet34\n",
    "    cut,lr_cut = model_meta[f]\n",
    "    m = to_gpu(UnetWithAttention())\n",
    "    models = UnetModel(m,lr_cut)\n",
    "    learn = ConvLearner(md, models)\n",
    "    return learn\n",
    "\n",
    "def get_base(f,cut):\n",
    "    layers = cut_model(f(True), cut)\n",
    "    return nn.Sequential(*layers)            \n"
   ]
  },
  {
   "cell_type": "markdown",
   "metadata": {},
   "source": [
    "## Loss function "
   ]
  },
  {
   "cell_type": "code",
   "execution_count": 9,
   "metadata": {},
   "outputs": [],
   "source": [
    "def change_tensor_size(targ,sz):\n",
    "    if targ.size(1) == sz:\n",
    "        return targ\n",
    "    targ_np = np.array([cv2.resize(o,dsize=(sz,sz)) for o in to_np(targ)])\n",
    "    return torch.tensor(targ_np,dtype=torch.float32,device=torch.device(\"cuda\"))\n",
    "\n",
    "def multi_lovasz_loss(logits,target):\n",
    "    logit,cl_logit,ds1,ds2,ds3,ds4 = (logits[0],*logits[1][0]) if isinstance(logits[1],list) else (logits[0],*logits[1])\n",
    "\n",
    "    cl_targets = (Flatten()(target).sum(1) != 0).type(torch.cuda.FloatTensor).view(cl_logit.size(0),-1)\n",
    "    non_empty_imgs = cl_targets.view(cl_logit.size(0),1,1)\n",
    "    cl = F.binary_cross_entropy(cl_logit,cl_targets)\n",
    "    rf_loss = lovasz_hinge(logit,target)\n",
    "    \n",
    "    #Handling deep supervised features\n",
    "    for o in [ds1,ds2,ds3,ds4]:\n",
    "        targ_rs = change_tensor_size(target,o.size(1))\n",
    "        o = o * non_empty_imgs\n",
    "        rf_loss += lovasz_hinge(o,targ_rs)\n",
    "        \n",
    "    return 0.05*cl+ rf_loss\n",
    "\n"
   ]
  },
  {
   "cell_type": "markdown",
   "metadata": {},
   "source": [
    "## Training loop"
   ]
  },
  {
   "cell_type": "code",
   "execution_count": null,
   "metadata": {
    "scrolled": true
   },
   "outputs": [],
   "source": [
    "model = 'submission_model'\n",
    "bst_acc=[]\n",
    "use_clr_min=20\n",
    "use_clr_div=10\n",
    "aug_tfms = [\n",
    "            RandomRotate(4, tfm_y=TfmType.CLASS),\n",
    "            RandomFlip(tfm_y=TfmType.CLASS),\n",
    "            RandomLighting(0.1, 0, tfm_y=TfmType.CLASS),\n",
    "            RandomBlur([3,5,7]),\n",
    "            RandomZoom(0.1,tfm_y=TfmType.CLASS)\n",
    "           ]\n",
    "\n",
    "szs = [(224,16)]\n",
    "for sz,bs in szs:\n",
    "    print([sz,bs])\n",
    "    for i in range(kf) :\n",
    "        print(f'fold_id{i}')\n",
    "        \n",
    "        trn_x = np.array([f'trn_images/{o}' for o in train_folds[i]])\n",
    "        trn_y = np.array([f'trn_masks/{o}' for o in train_folds[i]])\n",
    "        val_x = [f'trn_images/{o}' for o in val_folds[i]]\n",
    "        val_y = [f'trn_masks/{o}' for o in val_folds[i]]\n",
    "        \n",
    "        tfms = tfms_from_model(resnet34, sz=sz, pad=0,crop_type=CropType.NO, tfm_y=TfmType.CLASS, aug_tfms=aug_tfms)\n",
    "        datasets = ImageData.get_ds(MatchedFilesDataset, (trn_x,trn_y), (val_x,val_y), tfms,test=tst_x,path=PATH)\n",
    "        md = ImageData(PATH, datasets, bs, num_workers=16, classes=None)\n",
    "        denorm = md.trn_ds.denorm\n",
    "        md.trn_dl.dataset = DepthDataset(md.trn_ds,dpth_dict)\n",
    "        md.val_dl.dataset = DepthDataset(md.val_ds,dpth_dict)\n",
    "        md.test_dl.dataset = DepthDataset(md.test_ds,dpth_dict)\n",
    "        learn = get_tgs_model() \n",
    "        learn.metrics=[my_eval]\n",
    "        pa = f'{kf}_fold_{model}_{i}'\n",
    "        print(pa)\n",
    "        learn.unfreeze()        \n",
    "        learn.crit = multi_lovasz_loss     \n",
    "        \n",
    "        learn.fit(1e-2,n_cycle=1,wds=0.0001,cycle_len=100,use_clr=(10,8),best_save_name=pa)\n",
    "        \n",
    "        learn.load(pa)\n",
    "        #Calcuating mean iou score\n",
    "        v_targ = md.val_ds.ds[:][1]\n",
    "        v_preds = np.zeros((len(v_targ),sz,sz))     \n",
    "        v_pred = learn.predict()\n",
    "        v_pred = to_np(torch.sigmoid(torch.from_numpy(v_pred)))\n",
    "        p = ((v_pred)>0.5).astype(np.uint8)\n",
    "        bst_acc.append(intersection_over_union_thresholds(v_targ,p))\n",
    "        print(bst_acc[-1])"
   ]
  },
  {
   "cell_type": "markdown",
   "metadata": {},
   "source": [
    "## Submission - TTA"
   ]
  },
  {
   "cell_type": "code",
   "execution_count": 14,
   "metadata": {},
   "outputs": [
    {
     "data": {
      "application/vnd.jupyter.widget-view+json": {
       "model_id": "e2bba17f719a422ba82f0b91235f6d13",
       "version_major": 2,
       "version_minor": 0
      },
      "text/plain": [
       "HBox(children=(IntProgress(value=0, max=10), HTML(value='')))"
      ]
     },
     "metadata": {},
     "output_type": "display_data"
    },
    {
     "name": "stdout",
     "output_type": "stream",
     "text": [
      "10_fold_resnet_ds_0ft\n",
      "10_fold_resnet_ds_1ft\n",
      "10_fold_resnet_ds_2ft\n",
      "10_fold_resnet_ds_3ft\n",
      "10_fold_resnet_ds_4ft\n",
      "10_fold_resnet_ds_5ft\n",
      "10_fold_resnet_ds_6ft\n",
      "10_fold_resnet_ds_7ft\n",
      "10_fold_resnet_ds_8ft\n",
      "10_fold_resnet_ds_9ft\n",
      "\n"
     ]
    },
    {
     "data": {
      "application/vnd.jupyter.widget-view+json": {
       "model_id": "c6f4a17057bc4b47911111b2c8c3b941",
       "version_major": 2,
       "version_minor": 0
      },
      "text/plain": [
       "HBox(children=(IntProgress(value=0, max=10), HTML(value='')))"
      ]
     },
     "metadata": {},
     "output_type": "display_data"
    },
    {
     "name": "stdout",
     "output_type": "stream",
     "text": [
      "10_fold_resnet_ds_0ft\n",
      "10_fold_resnet_ds_1ft\n",
      "10_fold_resnet_ds_2ft\n",
      "10_fold_resnet_ds_3ft\n",
      "10_fold_resnet_ds_4ft\n",
      "10_fold_resnet_ds_5ft\n",
      "10_fold_resnet_ds_6ft\n",
      "10_fold_resnet_ds_7ft\n",
      "10_fold_resnet_ds_8ft\n",
      "10_fold_resnet_ds_9ft\n",
      "\n"
     ]
    }
   ],
   "source": [
    "preds = np.zeros(shape = (18000,sz,sz))\n",
    "for o in [True,False]:\n",
    "    md.test_dl.dataset = TestFilesDataset(tst_x,tst_x,tfms[1],flip=o,path=PATH)\n",
    "    md.test_dl.dataset = DepthDataset(md.test_dl.dataset,dpth_dict)\n",
    "    \n",
    "    for i in tqdm_notebook(range(kf)):\n",
    "        pa = f'{kf}_fold_{model}_{i}'\n",
    "        print(pa)\n",
    "        learn.load(pa)\n",
    "        pred = learn.predict(is_test=True)\n",
    "        pred = to_np(torch.sigmoid(torch.from_numpy(pred)))    \n",
    "        for im_idx,im in enumerate(pred):\n",
    "                preds[im_idx] += np.fliplr(im) if o else im\n",
    "        del pred"
   ]
  },
  {
   "cell_type": "code",
   "execution_count": 15,
   "metadata": {},
   "outputs": [
    {
     "data": {
      "text/plain": [
       "<matplotlib.image.AxesImage at 0x7f0c9b6fc978>"
      ]
     },
     "execution_count": 15,
     "metadata": {},
     "output_type": "execute_result"
    },
    {
     "data": {
      "image/png": "[encoded data removed]",
      "text/plain": [
       "<Figure size 432x288 with 1 Axes>"
      ]
     },
     "metadata": {},
     "output_type": "display_data"
    }
   ],
   "source": [
    "#Quick look on if the submission masks looks good.\n",
    "plt.imshow(((preds[16]/kf*2)>0.5).astype(np.uint8))"
   ]
  },
  {
   "cell_type": "code",
   "execution_count": 16,
   "metadata": {},
   "outputs": [],
   "source": [
    "p = [cv2.resize(o/kf*2,dsize=(101,101)) for o in preds]\n",
    "p = [(o>0.5).astype(np.uint8) for o in p]"
   ]
  },
  {
   "cell_type": "code",
   "execution_count": 17,
   "metadata": {},
   "outputs": [
    {
     "data": {
      "application/vnd.jupyter.widget-view+json": {
       "model_id": "02ab4f5f0dd945eca5ff83514beeec81",
       "version_major": 2,
       "version_minor": 0
      },
      "text/plain": [
       "HBox(children=(IntProgress(value=1, bar_style='info', max=1), HTML(value='')))"
      ]
     },
     "metadata": {},
     "output_type": "display_data"
    },
    {
     "name": "stdout",
     "output_type": "stream",
     "text": [
      "\n"
     ]
    }
   ],
   "source": [
    "pred_dict = {id_[11:-4]:RLenc(p[i]) for i,id_ in tqdm_notebook(enumerate(tst_x))}\n",
    "sub = pd.DataFrame.from_dict(pred_dict,orient='index')\n",
    "sub.index.names = ['id']\n",
    "sub.columns = ['rle_mask']\n",
    "sub.to_csv('simple_k_fold_flipped.csv')"
   ]
  },
  {
   "cell_type": "code",
   "execution_count": null,
   "metadata": {},
   "outputs": [],
   "source": []
  }
 ],
 "metadata": {
  "kernelspec": {
   "display_name": "Python [default]",
   "language": "python",
   "name": "python3"
  },
  "language_info": {
   "codemirror_mode": {
    "name": "ipython",
    "version": 3
   },
   "file_extension": ".py",
   "mimetype": "text/x-python",
   "name": "python",
   "nbconvert_exporter": "python",
   "pygments_lexer": "ipython3",
   "version": "3.6.4"
  }
 },
 "nbformat": 4,
 "nbformat_minor": 2
}
